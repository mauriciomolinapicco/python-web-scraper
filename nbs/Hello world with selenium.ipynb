{
 "cells": [
  {
   "cell_type": "code",
   "execution_count": 3,
   "id": "5e08221d-f858-4b61-8ea6-26e4c8752010",
   "metadata": {},
   "outputs": [],
   "source": [
    "from selenium import webdriver\n",
    "from selenium.webdriver import ChromeOptions\n",
    "import time"
   ]
  },
  {
   "cell_type": "code",
   "execution_count": 4,
   "id": "2a8d8181-636a-412b-9bc7-646be8e0beed",
   "metadata": {},
   "outputs": [],
   "source": [
    "options = ChromeOptions()\n",
    "options.add_argument('--headless=new')"
   ]
  },
  {
   "cell_type": "code",
   "execution_count": 5,
   "id": "fcc1f83d-d1e7-4f60-831d-b7d630ad0bcf",
   "metadata": {},
   "outputs": [],
   "source": [
    "url = 'https://www.amazon.com.br/PlayStation-Console-5/dp/B09FGC9T19?th=1'"
   ]
  },
  {
   "cell_type": "code",
   "execution_count": 15,
   "id": "caa45110-aead-4288-9bb8-0f118881d3a8",
   "metadata": {},
   "outputs": [],
   "source": [
    "with webdriver.Chrome(options=options) as driver:\n",
    "    driver.get(url) #http get request -> requests.get(url)\n",
    "    time.sleep(10)\n",
    "    html = driver.page_source"
   ]
  },
  {
   "cell_type": "code",
   "execution_count": 17,
   "id": "2f34cae3-a6d6-47b4-b1a4-bcd8ba7890fa",
   "metadata": {},
   "outputs": [
    {
     "ename": "NameError",
     "evalue": "name 'htmll' is not defined",
     "output_type": "error",
     "traceback": [
      "\u001b[1;31m---------------------------------------------------------------------------\u001b[0m",
      "\u001b[1;31mNameError\u001b[0m                                 Traceback (most recent call last)",
      "Cell \u001b[1;32mIn[17], line 1\u001b[0m\n\u001b[1;32m----> 1\u001b[0m \u001b[38;5;28mprint\u001b[39m(\u001b[43mhtmll\u001b[49m)\n",
      "\u001b[1;31mNameError\u001b[0m: name 'htmll' is not defined"
     ]
    }
   ],
   "source": [
    "print(html)"
   ]
  },
  {
   "cell_type": "code",
   "execution_count": null,
   "id": "7cf20d24-c8ea-4fe3-98d8-5895f0436a42",
   "metadata": {},
   "outputs": [],
   "source": []
  }
 ],
 "metadata": {
  "kernelspec": {
   "display_name": "Python 3 (ipykernel)",
   "language": "python",
   "name": "python3"
  },
  "language_info": {
   "codemirror_mode": {
    "name": "ipython",
    "version": 3
   },
   "file_extension": ".py",
   "mimetype": "text/x-python",
   "name": "python",
   "nbconvert_exporter": "python",
   "pygments_lexer": "ipython3",
   "version": "3.11.9"
  }
 },
 "nbformat": 4,
 "nbformat_minor": 5
}
